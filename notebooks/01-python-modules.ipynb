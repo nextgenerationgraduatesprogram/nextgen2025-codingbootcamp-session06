{
 "cells": [
  {
   "cell_type": "markdown",
   "metadata": {},
   "source": [
    "# Python Modules\n",
    "\n",
    "One of the main issues with notebooks is code reusability, if we have a block of code that performs a specific function, we often want to re-use that across multiple different notebooks. This is where Python modules come in, they're a way to organize and structure our code.\n",
    "\n",
    "Python modules are files containing Python code, such as functions, classes, or variables, that can be re-used in multiple different locations. They help organize and structure your code efficiently and makes sure that it's re-usable.\n",
    "\n",
    "Libraries like `pandas` are collections of Python modules and packages that other people have design, we can also write our own modules and libraries."
   ]
  },
  {
   "cell_type": "markdown",
   "metadata": {},
   "source": [
    "## 00. Getting Setup"
   ]
  },
  {
   "cell_type": "code",
   "execution_count": 18,
   "metadata": {},
   "outputs": [
    {
     "name": "stdout",
     "output_type": "stream",
     "text": [
      "Requirement already satisfied: pip in c:\\users\\can134\\onedrive - csiro\\documents\\csiro\\nextgen\\2025\\coding-bootcamp\\nextgen2025-codingbootcamp-session06\\.venv\\lib\\site-packages (25.0)\n",
      "Requirement already satisfied: ipykernel in c:\\users\\can134\\onedrive - csiro\\documents\\csiro\\nextgen\\2025\\coding-bootcamp\\nextgen2025-codingbootcamp-session06\\.venv\\lib\\site-packages (from -r ../requirements.txt (line 1)) (6.29.5)\n",
      "Requirement already satisfied: opencv-python in c:\\users\\can134\\onedrive - csiro\\documents\\csiro\\nextgen\\2025\\coding-bootcamp\\nextgen2025-codingbootcamp-session06\\.venv\\lib\\site-packages (from -r ../requirements.txt (line 2)) (4.11.0.86)\n",
      "Requirement already satisfied: pandas in c:\\users\\can134\\onedrive - csiro\\documents\\csiro\\nextgen\\2025\\coding-bootcamp\\nextgen2025-codingbootcamp-session06\\.venv\\lib\\site-packages (from -r ../requirements.txt (line 3)) (2.2.3)\n",
      "Requirement already satisfied: matplotlib in c:\\users\\can134\\onedrive - csiro\\documents\\csiro\\nextgen\\2025\\coding-bootcamp\\nextgen2025-codingbootcamp-session06\\.venv\\lib\\site-packages (from -r ../requirements.txt (line 4)) (3.10.0)\n",
      "Requirement already satisfied: numpy in c:\\users\\can134\\onedrive - csiro\\documents\\csiro\\nextgen\\2025\\coding-bootcamp\\nextgen2025-codingbootcamp-session06\\.venv\\lib\\site-packages (from -r ../requirements.txt (line 5)) (2.2.2)\n",
      "Requirement already satisfied: comm>=0.1.1 in c:\\users\\can134\\onedrive - csiro\\documents\\csiro\\nextgen\\2025\\coding-bootcamp\\nextgen2025-codingbootcamp-session06\\.venv\\lib\\site-packages (from ipykernel->-r ../requirements.txt (line 1)) (0.2.2)\n",
      "Requirement already satisfied: debugpy>=1.6.5 in c:\\users\\can134\\onedrive - csiro\\documents\\csiro\\nextgen\\2025\\coding-bootcamp\\nextgen2025-codingbootcamp-session06\\.venv\\lib\\site-packages (from ipykernel->-r ../requirements.txt (line 1)) (1.8.11)\n",
      "Requirement already satisfied: ipython>=7.23.1 in c:\\users\\can134\\onedrive - csiro\\documents\\csiro\\nextgen\\2025\\coding-bootcamp\\nextgen2025-codingbootcamp-session06\\.venv\\lib\\site-packages (from ipykernel->-r ../requirements.txt (line 1)) (8.31.0)\n",
      "Requirement already satisfied: jupyter-client>=6.1.12 in c:\\users\\can134\\onedrive - csiro\\documents\\csiro\\nextgen\\2025\\coding-bootcamp\\nextgen2025-codingbootcamp-session06\\.venv\\lib\\site-packages (from ipykernel->-r ../requirements.txt (line 1)) (8.6.3)\n",
      "Requirement already satisfied: jupyter-core!=5.0.*,>=4.12 in c:\\users\\can134\\onedrive - csiro\\documents\\csiro\\nextgen\\2025\\coding-bootcamp\\nextgen2025-codingbootcamp-session06\\.venv\\lib\\site-packages (from ipykernel->-r ../requirements.txt (line 1)) (5.7.2)\n",
      "Requirement already satisfied: matplotlib-inline>=0.1 in c:\\users\\can134\\onedrive - csiro\\documents\\csiro\\nextgen\\2025\\coding-bootcamp\\nextgen2025-codingbootcamp-session06\\.venv\\lib\\site-packages (from ipykernel->-r ../requirements.txt (line 1)) (0.1.7)\n",
      "Requirement already satisfied: nest-asyncio in c:\\users\\can134\\onedrive - csiro\\documents\\csiro\\nextgen\\2025\\coding-bootcamp\\nextgen2025-codingbootcamp-session06\\.venv\\lib\\site-packages (from ipykernel->-r ../requirements.txt (line 1)) (1.6.0)\n",
      "Requirement already satisfied: packaging in c:\\users\\can134\\onedrive - csiro\\documents\\csiro\\nextgen\\2025\\coding-bootcamp\\nextgen2025-codingbootcamp-session06\\.venv\\lib\\site-packages (from ipykernel->-r ../requirements.txt (line 1)) (24.2)\n",
      "Requirement already satisfied: psutil in c:\\users\\can134\\onedrive - csiro\\documents\\csiro\\nextgen\\2025\\coding-bootcamp\\nextgen2025-codingbootcamp-session06\\.venv\\lib\\site-packages (from ipykernel->-r ../requirements.txt (line 1)) (6.1.1)\n",
      "Requirement already satisfied: pyzmq>=24 in c:\\users\\can134\\onedrive - csiro\\documents\\csiro\\nextgen\\2025\\coding-bootcamp\\nextgen2025-codingbootcamp-session06\\.venv\\lib\\site-packages (from ipykernel->-r ../requirements.txt (line 1)) (26.2.0)\n",
      "Requirement already satisfied: tornado>=6.1 in c:\\users\\can134\\onedrive - csiro\\documents\\csiro\\nextgen\\2025\\coding-bootcamp\\nextgen2025-codingbootcamp-session06\\.venv\\lib\\site-packages (from ipykernel->-r ../requirements.txt (line 1)) (6.4.2)\n",
      "Requirement already satisfied: traitlets>=5.4.0 in c:\\users\\can134\\onedrive - csiro\\documents\\csiro\\nextgen\\2025\\coding-bootcamp\\nextgen2025-codingbootcamp-session06\\.venv\\lib\\site-packages (from ipykernel->-r ../requirements.txt (line 1)) (5.14.3)\n",
      "Requirement already satisfied: python-dateutil>=2.8.2 in c:\\users\\can134\\onedrive - csiro\\documents\\csiro\\nextgen\\2025\\coding-bootcamp\\nextgen2025-codingbootcamp-session06\\.venv\\lib\\site-packages (from pandas->-r ../requirements.txt (line 3)) (2.9.0.post0)\n",
      "Requirement already satisfied: pytz>=2020.1 in c:\\users\\can134\\onedrive - csiro\\documents\\csiro\\nextgen\\2025\\coding-bootcamp\\nextgen2025-codingbootcamp-session06\\.venv\\lib\\site-packages (from pandas->-r ../requirements.txt (line 3)) (2025.1)\n",
      "Requirement already satisfied: tzdata>=2022.7 in c:\\users\\can134\\onedrive - csiro\\documents\\csiro\\nextgen\\2025\\coding-bootcamp\\nextgen2025-codingbootcamp-session06\\.venv\\lib\\site-packages (from pandas->-r ../requirements.txt (line 3)) (2025.1)\n",
      "Requirement already satisfied: contourpy>=1.0.1 in c:\\users\\can134\\onedrive - csiro\\documents\\csiro\\nextgen\\2025\\coding-bootcamp\\nextgen2025-codingbootcamp-session06\\.venv\\lib\\site-packages (from matplotlib->-r ../requirements.txt (line 4)) (1.3.1)\n",
      "Requirement already satisfied: cycler>=0.10 in c:\\users\\can134\\onedrive - csiro\\documents\\csiro\\nextgen\\2025\\coding-bootcamp\\nextgen2025-codingbootcamp-session06\\.venv\\lib\\site-packages (from matplotlib->-r ../requirements.txt (line 4)) (0.12.1)\n",
      "Requirement already satisfied: fonttools>=4.22.0 in c:\\users\\can134\\onedrive - csiro\\documents\\csiro\\nextgen\\2025\\coding-bootcamp\\nextgen2025-codingbootcamp-session06\\.venv\\lib\\site-packages (from matplotlib->-r ../requirements.txt (line 4)) (4.55.8)\n",
      "Requirement already satisfied: kiwisolver>=1.3.1 in c:\\users\\can134\\onedrive - csiro\\documents\\csiro\\nextgen\\2025\\coding-bootcamp\\nextgen2025-codingbootcamp-session06\\.venv\\lib\\site-packages (from matplotlib->-r ../requirements.txt (line 4)) (1.4.8)\n",
      "Requirement already satisfied: pillow>=8 in c:\\users\\can134\\onedrive - csiro\\documents\\csiro\\nextgen\\2025\\coding-bootcamp\\nextgen2025-codingbootcamp-session06\\.venv\\lib\\site-packages (from matplotlib->-r ../requirements.txt (line 4)) (11.1.0)\n",
      "Requirement already satisfied: pyparsing>=2.3.1 in c:\\users\\can134\\onedrive - csiro\\documents\\csiro\\nextgen\\2025\\coding-bootcamp\\nextgen2025-codingbootcamp-session06\\.venv\\lib\\site-packages (from matplotlib->-r ../requirements.txt (line 4)) (3.2.1)\n",
      "Requirement already satisfied: colorama in c:\\users\\can134\\onedrive - csiro\\documents\\csiro\\nextgen\\2025\\coding-bootcamp\\nextgen2025-codingbootcamp-session06\\.venv\\lib\\site-packages (from ipython>=7.23.1->ipykernel->-r ../requirements.txt (line 1)) (0.4.6)\n",
      "Requirement already satisfied: decorator in c:\\users\\can134\\onedrive - csiro\\documents\\csiro\\nextgen\\2025\\coding-bootcamp\\nextgen2025-codingbootcamp-session06\\.venv\\lib\\site-packages (from ipython>=7.23.1->ipykernel->-r ../requirements.txt (line 1)) (5.1.1)\n",
      "Requirement already satisfied: exceptiongroup in c:\\users\\can134\\onedrive - csiro\\documents\\csiro\\nextgen\\2025\\coding-bootcamp\\nextgen2025-codingbootcamp-session06\\.venv\\lib\\site-packages (from ipython>=7.23.1->ipykernel->-r ../requirements.txt (line 1)) (1.2.2)\n",
      "Requirement already satisfied: jedi>=0.16 in c:\\users\\can134\\onedrive - csiro\\documents\\csiro\\nextgen\\2025\\coding-bootcamp\\nextgen2025-codingbootcamp-session06\\.venv\\lib\\site-packages (from ipython>=7.23.1->ipykernel->-r ../requirements.txt (line 1)) (0.19.2)\n",
      "Requirement already satisfied: prompt_toolkit<3.1.0,>=3.0.41 in c:\\users\\can134\\onedrive - csiro\\documents\\csiro\\nextgen\\2025\\coding-bootcamp\\nextgen2025-codingbootcamp-session06\\.venv\\lib\\site-packages (from ipython>=7.23.1->ipykernel->-r ../requirements.txt (line 1)) (3.0.48)\n",
      "Requirement already satisfied: pygments>=2.4.0 in c:\\users\\can134\\onedrive - csiro\\documents\\csiro\\nextgen\\2025\\coding-bootcamp\\nextgen2025-codingbootcamp-session06\\.venv\\lib\\site-packages (from ipython>=7.23.1->ipykernel->-r ../requirements.txt (line 1)) (2.19.1)\n",
      "Requirement already satisfied: stack_data in c:\\users\\can134\\onedrive - csiro\\documents\\csiro\\nextgen\\2025\\coding-bootcamp\\nextgen2025-codingbootcamp-session06\\.venv\\lib\\site-packages (from ipython>=7.23.1->ipykernel->-r ../requirements.txt (line 1)) (0.6.3)\n",
      "Requirement already satisfied: typing_extensions>=4.6 in c:\\users\\can134\\onedrive - csiro\\documents\\csiro\\nextgen\\2025\\coding-bootcamp\\nextgen2025-codingbootcamp-session06\\.venv\\lib\\site-packages (from ipython>=7.23.1->ipykernel->-r ../requirements.txt (line 1)) (4.12.2)\n",
      "Requirement already satisfied: platformdirs>=2.5 in c:\\users\\can134\\onedrive - csiro\\documents\\csiro\\nextgen\\2025\\coding-bootcamp\\nextgen2025-codingbootcamp-session06\\.venv\\lib\\site-packages (from jupyter-core!=5.0.*,>=4.12->ipykernel->-r ../requirements.txt (line 1)) (4.3.6)\n",
      "Requirement already satisfied: pywin32>=300 in c:\\users\\can134\\onedrive - csiro\\documents\\csiro\\nextgen\\2025\\coding-bootcamp\\nextgen2025-codingbootcamp-session06\\.venv\\lib\\site-packages (from jupyter-core!=5.0.*,>=4.12->ipykernel->-r ../requirements.txt (line 1)) (308)\n",
      "Requirement already satisfied: six>=1.5 in c:\\users\\can134\\onedrive - csiro\\documents\\csiro\\nextgen\\2025\\coding-bootcamp\\nextgen2025-codingbootcamp-session06\\.venv\\lib\\site-packages (from python-dateutil>=2.8.2->pandas->-r ../requirements.txt (line 3)) (1.17.0)\n",
      "Requirement already satisfied: parso<0.9.0,>=0.8.4 in c:\\users\\can134\\onedrive - csiro\\documents\\csiro\\nextgen\\2025\\coding-bootcamp\\nextgen2025-codingbootcamp-session06\\.venv\\lib\\site-packages (from jedi>=0.16->ipython>=7.23.1->ipykernel->-r ../requirements.txt (line 1)) (0.8.4)\n",
      "Requirement already satisfied: wcwidth in c:\\users\\can134\\onedrive - csiro\\documents\\csiro\\nextgen\\2025\\coding-bootcamp\\nextgen2025-codingbootcamp-session06\\.venv\\lib\\site-packages (from prompt_toolkit<3.1.0,>=3.0.41->ipython>=7.23.1->ipykernel->-r ../requirements.txt (line 1)) (0.2.13)\n",
      "Requirement already satisfied: executing>=1.2.0 in c:\\users\\can134\\onedrive - csiro\\documents\\csiro\\nextgen\\2025\\coding-bootcamp\\nextgen2025-codingbootcamp-session06\\.venv\\lib\\site-packages (from stack_data->ipython>=7.23.1->ipykernel->-r ../requirements.txt (line 1)) (2.1.0)\n",
      "Requirement already satisfied: asttokens>=2.1.0 in c:\\users\\can134\\onedrive - csiro\\documents\\csiro\\nextgen\\2025\\coding-bootcamp\\nextgen2025-codingbootcamp-session06\\.venv\\lib\\site-packages (from stack_data->ipython>=7.23.1->ipykernel->-r ../requirements.txt (line 1)) (3.0.0)\n",
      "Requirement already satisfied: pure-eval in c:\\users\\can134\\onedrive - csiro\\documents\\csiro\\nextgen\\2025\\coding-bootcamp\\nextgen2025-codingbootcamp-session06\\.venv\\lib\\site-packages (from stack_data->ipython>=7.23.1->ipykernel->-r ../requirements.txt (line 1)) (0.2.3)\n"
     ]
    }
   ],
   "source": [
    "!pip install --upgrade pip\n",
    "!pip install -r ../requirements.txt"
   ]
  },
  {
   "cell_type": "markdown",
   "metadata": {},
   "source": [
    "## 01. In-built Python Modules\n",
    "\n",
    "You can go and have a look at these on GitHub if you want https://github.com/python/cpython/tree/main/Lib."
   ]
  },
  {
   "cell_type": "code",
   "execution_count": 19,
   "metadata": {},
   "outputs": [],
   "source": [
    "# math is just a python module that structures code that we can interface with\n",
    "import math"
   ]
  },
  {
   "cell_type": "code",
   "execution_count": 20,
   "metadata": {},
   "outputs": [
    {
     "name": "stdout",
     "output_type": "stream",
     "text": [
      "['__doc__', '__loader__', '__name__', '__package__', '__spec__', 'acos', 'acosh', 'asin', 'asinh', 'atan', 'atan2', 'atanh', 'ceil', 'comb', 'copysign', 'cos', 'cosh', 'degrees', 'dist', 'e', 'erf', 'erfc', 'exp', 'expm1', 'fabs', 'factorial', 'floor', 'fmod', 'frexp', 'fsum', 'gamma', 'gcd', 'hypot', 'inf', 'isclose', 'isfinite', 'isinf', 'isnan', 'isqrt', 'lcm', 'ldexp', 'lgamma', 'log', 'log10', 'log1p', 'log2', 'modf', 'nan', 'nextafter', 'perm', 'pi', 'pow', 'prod', 'radians', 'remainder', 'sin', 'sinh', 'sqrt', 'tan', 'tanh', 'tau', 'trunc', 'ulp']\n"
     ]
    }
   ],
   "source": [
    "print(dir(math))"
   ]
  },
  {
   "cell_type": "code",
   "execution_count": 21,
   "metadata": {},
   "outputs": [
    {
     "name": "stdout",
     "output_type": "stream",
     "text": [
      "{'__name__': 'math', '__doc__': 'This module provides access to the mathematical functions\\ndefined by the C standard.', '__package__': '', '__loader__': <class '_frozen_importlib.BuiltinImporter'>, '__spec__': ModuleSpec(name='math', loader=<class '_frozen_importlib.BuiltinImporter'>, origin='built-in'), 'acos': <built-in function acos>, 'acosh': <built-in function acosh>, 'asin': <built-in function asin>, 'asinh': <built-in function asinh>, 'atan': <built-in function atan>, 'atan2': <built-in function atan2>, 'atanh': <built-in function atanh>, 'ceil': <built-in function ceil>, 'copysign': <built-in function copysign>, 'cos': <built-in function cos>, 'cosh': <built-in function cosh>, 'degrees': <built-in function degrees>, 'dist': <built-in function dist>, 'erf': <built-in function erf>, 'erfc': <built-in function erfc>, 'exp': <built-in function exp>, 'expm1': <built-in function expm1>, 'fabs': <built-in function fabs>, 'factorial': <built-in function factorial>, 'floor': <built-in function floor>, 'fmod': <built-in function fmod>, 'frexp': <built-in function frexp>, 'fsum': <built-in function fsum>, 'gamma': <built-in function gamma>, 'gcd': <built-in function gcd>, 'hypot': <built-in function hypot>, 'isclose': <built-in function isclose>, 'isfinite': <built-in function isfinite>, 'isinf': <built-in function isinf>, 'isnan': <built-in function isnan>, 'isqrt': <built-in function isqrt>, 'lcm': <built-in function lcm>, 'ldexp': <built-in function ldexp>, 'lgamma': <built-in function lgamma>, 'log': <built-in function log>, 'log1p': <built-in function log1p>, 'log10': <built-in function log10>, 'log2': <built-in function log2>, 'modf': <built-in function modf>, 'pow': <built-in function pow>, 'radians': <built-in function radians>, 'remainder': <built-in function remainder>, 'sin': <built-in function sin>, 'sinh': <built-in function sinh>, 'sqrt': <built-in function sqrt>, 'tan': <built-in function tan>, 'tanh': <built-in function tanh>, 'trunc': <built-in function trunc>, 'prod': <built-in function prod>, 'perm': <built-in function perm>, 'comb': <built-in function comb>, 'nextafter': <built-in function nextafter>, 'ulp': <built-in function ulp>, 'pi': 3.141592653589793, 'e': 2.718281828459045, 'tau': 6.283185307179586, 'inf': inf, 'nan': nan}\n"
     ]
    }
   ],
   "source": [
    "print(vars(math))"
   ]
  },
  {
   "cell_type": "markdown",
   "metadata": {},
   "source": [
    "So Python has some built-in modules that we can use, when we install libraries they also become available to use. What determines what modules Python has access to and can import when it runs? The system path determines what Python can \"see\" and import, we can look at this using the in-built `sys` library."
   ]
  },
  {
   "cell_type": "code",
   "execution_count": 22,
   "metadata": {},
   "outputs": [
    {
     "data": {
      "text/plain": [
       "['C:\\\\Program Files\\\\WindowsApps\\\\PythonSoftwareFoundation.Python.3.10_3.10.3056.0_x64__qbz5n2kfra8p0\\\\python310.zip',\n",
       " 'C:\\\\Program Files\\\\WindowsApps\\\\PythonSoftwareFoundation.Python.3.10_3.10.3056.0_x64__qbz5n2kfra8p0\\\\DLLs',\n",
       " 'C:\\\\Program Files\\\\WindowsApps\\\\PythonSoftwareFoundation.Python.3.10_3.10.3056.0_x64__qbz5n2kfra8p0\\\\lib',\n",
       " 'C:\\\\Users\\\\can134\\\\AppData\\\\Local\\\\Microsoft\\\\WindowsApps\\\\PythonSoftwareFoundation.Python.3.10_qbz5n2kfra8p0',\n",
       " 'c:\\\\Users\\\\can134\\\\OneDrive - CSIRO\\\\Documents\\\\CSIRO\\\\NextGen\\\\2025\\\\coding-bootcamp\\\\nextgen2025-codingbootcamp-session06\\\\.venv',\n",
       " '',\n",
       " 'c:\\\\Users\\\\can134\\\\OneDrive - CSIRO\\\\Documents\\\\CSIRO\\\\NextGen\\\\2025\\\\coding-bootcamp\\\\nextgen2025-codingbootcamp-session06\\\\.venv\\\\lib\\\\site-packages',\n",
       " 'c:\\\\Users\\\\can134\\\\OneDrive - CSIRO\\\\Documents\\\\CSIRO\\\\NextGen\\\\2025\\\\coding-bootcamp\\\\nextgen2025-codingbootcamp-session06\\\\.venv\\\\lib\\\\site-packages\\\\win32',\n",
       " 'c:\\\\Users\\\\can134\\\\OneDrive - CSIRO\\\\Documents\\\\CSIRO\\\\NextGen\\\\2025\\\\coding-bootcamp\\\\nextgen2025-codingbootcamp-session06\\\\.venv\\\\lib\\\\site-packages\\\\win32\\\\lib',\n",
       " 'c:\\\\Users\\\\can134\\\\OneDrive - CSIRO\\\\Documents\\\\CSIRO\\\\NextGen\\\\2025\\\\coding-bootcamp\\\\nextgen2025-codingbootcamp-session06\\\\.venv\\\\lib\\\\site-packages\\\\Pythonwin',\n",
       " 'C:\\\\Users\\\\can134\\\\OneDrive - CSIRO\\\\Documents\\\\CSIRO\\\\NextGen\\\\2025\\\\coding-bootcamp\\\\nextgen2025-codingbootcamp-session06']"
      ]
     },
     "execution_count": 22,
     "metadata": {},
     "output_type": "execute_result"
    }
   ],
   "source": [
    "import sys\n",
    "sys.path"
   ]
  },
  {
   "cell_type": "markdown",
   "metadata": {},
   "source": [
    "Say we have some code we want to re-use, if we go over to the Python modules in `src`, we can see I've just copied over the code from the last workshops including our `FashionMnist` and some utilities for downloading the dataset. Whilst notebooks are good for rapid prototyping, organizing our code in modules makes it much more modular and re-usable.\n",
    "\n",
    "So, next we're going to figure out how to use it."
   ]
  },
  {
   "cell_type": "code",
   "execution_count": 23,
   "metadata": {},
   "outputs": [],
   "source": [
    "# if we try and import src we dont have access to it\n",
    "import src"
   ]
  },
  {
   "cell_type": "code",
   "execution_count": 7,
   "metadata": {},
   "outputs": [
    {
     "data": {
      "text/plain": [
       "['C:\\\\Program Files\\\\WindowsApps\\\\PythonSoftwareFoundation.Python.3.10_3.10.3056.0_x64__qbz5n2kfra8p0\\\\python310.zip',\n",
       " 'C:\\\\Program Files\\\\WindowsApps\\\\PythonSoftwareFoundation.Python.3.10_3.10.3056.0_x64__qbz5n2kfra8p0\\\\DLLs',\n",
       " 'C:\\\\Program Files\\\\WindowsApps\\\\PythonSoftwareFoundation.Python.3.10_3.10.3056.0_x64__qbz5n2kfra8p0\\\\lib',\n",
       " 'C:\\\\Users\\\\can134\\\\AppData\\\\Local\\\\Microsoft\\\\WindowsApps\\\\PythonSoftwareFoundation.Python.3.10_qbz5n2kfra8p0',\n",
       " 'c:\\\\Users\\\\can134\\\\OneDrive - CSIRO\\\\Documents\\\\CSIRO\\\\NextGen\\\\2025\\\\coding-bootcamp\\\\nextgen2025-codingbootcamp-session06\\\\.venv',\n",
       " '',\n",
       " 'c:\\\\Users\\\\can134\\\\OneDrive - CSIRO\\\\Documents\\\\CSIRO\\\\NextGen\\\\2025\\\\coding-bootcamp\\\\nextgen2025-codingbootcamp-session06\\\\.venv\\\\lib\\\\site-packages',\n",
       " 'c:\\\\Users\\\\can134\\\\OneDrive - CSIRO\\\\Documents\\\\CSIRO\\\\NextGen\\\\2025\\\\coding-bootcamp\\\\nextgen2025-codingbootcamp-session06\\\\.venv\\\\lib\\\\site-packages\\\\win32',\n",
       " 'c:\\\\Users\\\\can134\\\\OneDrive - CSIRO\\\\Documents\\\\CSIRO\\\\NextGen\\\\2025\\\\coding-bootcamp\\\\nextgen2025-codingbootcamp-session06\\\\.venv\\\\lib\\\\site-packages\\\\win32\\\\lib',\n",
       " 'c:\\\\Users\\\\can134\\\\OneDrive - CSIRO\\\\Documents\\\\CSIRO\\\\NextGen\\\\2025\\\\coding-bootcamp\\\\nextgen2025-codingbootcamp-session06\\\\.venv\\\\lib\\\\site-packages\\\\Pythonwin',\n",
       " 'C:\\\\Users\\\\can134\\\\OneDrive - CSIRO\\\\Documents\\\\CSIRO\\\\NextGen\\\\2025\\\\coding-bootcamp\\\\nextgen2025-codingbootcamp-session06']"
      ]
     },
     "execution_count": 7,
     "metadata": {},
     "output_type": "execute_result"
    }
   ],
   "source": [
    "# however we can add our own paths the system path so it knows what `src` is\n",
    "..."
   ]
  },
  {
   "cell_type": "code",
   "execution_count": 24,
   "metadata": {},
   "outputs": [],
   "source": [
    "# now we do have access to it\n",
    "import src"
   ]
  },
  {
   "cell_type": "markdown",
   "metadata": {},
   "source": [
    "Excellent, we should now be able to import and use the code we defined in `src` in this notebook and any others. A benefit of this is, if we change the `FashionMnist` code, this will be reflected across all of the notebooks. However, when we modify a module that has already been loaded into the Python/Jupyter kernel we will need to re-start the code to reflect these changes."
   ]
  },
  {
   "cell_type": "code",
   "execution_count": 9,
   "metadata": {},
   "outputs": [],
   "source": [
    "# lets use the utils to download and create the fashion mnist dataset\n",
    "from src.utils import download_fashion_mnist\n",
    "download_fashion_mnist(\"../data\")"
   ]
  },
  {
   "cell_type": "code",
   "execution_count": 10,
   "metadata": {},
   "outputs": [],
   "source": [
    "# lets re-uuse the dataset in `src.datasets` \n",
    "from src.datasets import FashionMnist\n",
    "dataset = FashionMnist(\"../data/fashion_mnist\")"
   ]
  },
  {
   "cell_type": "code",
   "execution_count": 27,
   "metadata": {},
   "outputs": [
    {
     "data": {
      "image/png": "[encoded data removed]",
      "text/plain": [
       "<Figure size 500x500 with 1 Axes>"
      ]
     },
     "metadata": {},
     "output_type": "display_data"
    }
   ],
   "source": [
    "import matplotlib.pyplot as plt\n",
    "\n",
    "for img, lbl in dataset:\n",
    "    # plot the sample and the label\n",
    "    fig, ax = plt.subplots(figsize=(5,5))\n",
    "    ax.imshow(img)\n",
    "    ax.set_title(f\"Label: {lbl}\")\n",
    "    \n",
    "    break"
   ]
  }
 ],
 "metadata": {
  "kernelspec": {
   "display_name": ".venv",
   "language": "python",
   "name": "python3"
  },
  "language_info": {
   "codemirror_mode": {
    "name": "ipython",
    "version": 3
   },
   "file_extension": ".py",
   "mimetype": "text/x-python",
   "name": "python",
   "nbconvert_exporter": "python",
   "pygments_lexer": "ipython3",
   "version": "3.10.11"
  }
 },
 "nbformat": 4,
 "nbformat_minor": 2
}
