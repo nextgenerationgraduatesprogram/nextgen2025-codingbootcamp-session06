{
 "cells": [
  {
   "cell_type": "markdown",
   "metadata": {},
   "source": [
    "# Python Modules\n",
    "\n",
    "One of the main issues with notebooks is code reusability, if we have a block of code that performs a specific function, we often want to re-use that across multiple different notebooks. This is where Python modules come in, they're a way to organize and structure our code.\n",
    "\n",
    "Python modules are files containing Python code, such as functions, classes, or variables, that can be re-used in multiple different locations. They help organize and structure your code efficiently and makes sure that it's re-usable.\n",
    "\n",
    "Libraries like `pandas` are collections of Python modules and packages that other people have design, we can also write our own modules and libraries."
   ]
  },
  {
   "cell_type": "markdown",
   "metadata": {},
   "source": [
    "## 00. Getting Setup"
   ]
  },
  {
   "cell_type": "code",
   "execution_count": 1,
   "metadata": {},
   "outputs": [
    {
     "name": "stdout",
     "output_type": "stream",
     "text": [
      "Looking in indexes: https://pypi.org/simple, https://pypi.ngc.nvidia.com\n",
      "Requirement already satisfied: opencv-python in c:\\users\\samca\\anaconda3\\lib\\site-packages (4.11.0.86)\n",
      "Requirement already satisfied: numpy>=1.17.0 in c:\\users\\samca\\anaconda3\\lib\\site-packages (from opencv-python) (1.20.3)\n"
     ]
    },
    {
     "name": "stderr",
     "output_type": "stream",
     "text": [
      "WARNING: Error parsing dependencies of pyodbc: Invalid version: '4.0.0-unsupported'\n"
     ]
    }
   ],
   "source": [
    "# !pip install --upgrade pip --user\n",
    "# !pip install -r ../requirements.txt --user\n",
    "!pip install opencv-python --user"
   ]
  },
  {
   "cell_type": "markdown",
   "metadata": {},
   "source": [
    "## 01. In-built Python Modules\n",
    "\n",
    "You can go and have a look at these on GitHub if you want https://github.com/python/cpython/tree/main/Lib."
   ]
  },
  {
   "cell_type": "code",
   "execution_count": 2,
   "metadata": {},
   "outputs": [],
   "source": [
    "# math is just a python module that structures code that we can interface with\n",
    "import math"
   ]
  },
  {
   "cell_type": "code",
   "execution_count": 3,
   "metadata": {},
   "outputs": [
    {
     "data": {
      "text/plain": [
       "1"
      ]
     },
     "execution_count": 3,
     "metadata": {},
     "output_type": "execute_result"
    }
   ],
   "source": [
    "math.ceil(00.56)"
   ]
  },
  {
   "cell_type": "code",
   "execution_count": null,
   "metadata": {},
   "outputs": [],
   "source": []
  },
  {
   "cell_type": "markdown",
   "metadata": {},
   "source": [
    "So Python has some built-in modules that we can use, when we install libraries they also become available to use. What determines what modules Python has access to and can import when it runs? The system path determines what Python can \"see\" and import, we can look at this using the in-built `sys` library."
   ]
  },
  {
   "cell_type": "code",
   "execution_count": 4,
   "metadata": {},
   "outputs": [
    {
     "data": {
      "text/plain": [
       "['C:\\\\Users\\\\samca\\\\Documents\\\\Python Projects\\\\nextgen2025-codingbootcamp-session06\\\\notebooks',\n",
       " 'C:\\\\Users\\\\samca\\\\anaconda3\\\\python38.zip',\n",
       " 'C:\\\\Users\\\\samca\\\\anaconda3\\\\DLLs',\n",
       " 'C:\\\\Users\\\\samca\\\\anaconda3\\\\lib',\n",
       " 'C:\\\\Users\\\\samca\\\\anaconda3',\n",
       " '',\n",
       " 'C:\\\\Users\\\\samca\\\\AppData\\\\Roaming\\\\Python\\\\Python38\\\\site-packages',\n",
       " 'C:\\\\Users\\\\samca\\\\anaconda3\\\\lib\\\\site-packages',\n",
       " 'C:\\\\Users\\\\samca\\\\anaconda3\\\\lib\\\\site-packages\\\\locket-0.2.1-py3.8.egg',\n",
       " 'C:\\\\Users\\\\samca\\\\anaconda3\\\\lib\\\\site-packages\\\\win32',\n",
       " 'C:\\\\Users\\\\samca\\\\anaconda3\\\\lib\\\\site-packages\\\\win32\\\\lib',\n",
       " 'C:\\\\Users\\\\samca\\\\anaconda3\\\\lib\\\\site-packages\\\\Pythonwin',\n",
       " 'C:\\\\Users\\\\samca\\\\anaconda3\\\\lib\\\\site-packages\\\\IPython\\\\extensions',\n",
       " 'C:\\\\Users\\\\samca\\\\.ipython']"
      ]
     },
     "execution_count": 4,
     "metadata": {},
     "output_type": "execute_result"
    }
   ],
   "source": [
    "import sys\n",
    "sys.path"
   ]
  },
  {
   "cell_type": "markdown",
   "metadata": {},
   "source": [
    "Say we have some code we want to re-use, if we go over to the Python modules in `src`, we can see I've just copied over the code from the last workshops including our `FashionMnist` and some utilities for downloading the dataset. Whilst notebooks are good for rapid prototyping, organizing our code in modules makes it much more modular and re-usable.\n",
    "\n",
    "So, next we're going to figure out how to use it."
   ]
  },
  {
   "cell_type": "code",
   "execution_count": 5,
   "metadata": {},
   "outputs": [
    {
     "ename": "ModuleNotFoundError",
     "evalue": "No module named 'src'",
     "output_type": "error",
     "traceback": [
      "\u001b[1;31m---------------------------------------------------------------------------\u001b[0m",
      "\u001b[1;31mModuleNotFoundError\u001b[0m                       Traceback (most recent call last)",
      "\u001b[1;32m~\\AppData\\Local\\Temp/ipykernel_3764/4194890823.py\u001b[0m in \u001b[0;36m<module>\u001b[1;34m\u001b[0m\n\u001b[0;32m      1\u001b[0m \u001b[1;31m# if we try and import src we dont have access to it\u001b[0m\u001b[1;33m\u001b[0m\u001b[1;33m\u001b[0m\u001b[1;33m\u001b[0m\u001b[0m\n\u001b[1;32m----> 2\u001b[1;33m \u001b[1;32mimport\u001b[0m \u001b[0msrc\u001b[0m\u001b[1;33m\u001b[0m\u001b[1;33m\u001b[0m\u001b[0m\n\u001b[0m",
      "\u001b[1;31mModuleNotFoundError\u001b[0m: No module named 'src'"
     ]
    }
   ],
   "source": [
    "# if we try and import src we dont have access to it\n",
    "import src"
   ]
  },
  {
   "cell_type": "code",
   "execution_count": 6,
   "metadata": {},
   "outputs": [
    {
     "data": {
      "text/plain": [
       "['C:\\\\Users\\\\samca\\\\Documents\\\\Python Projects\\\\nextgen2025-codingbootcamp-session06\\\\notebooks',\n",
       " 'C:\\\\Users\\\\samca\\\\anaconda3\\\\python38.zip',\n",
       " 'C:\\\\Users\\\\samca\\\\anaconda3\\\\DLLs',\n",
       " 'C:\\\\Users\\\\samca\\\\anaconda3\\\\lib',\n",
       " 'C:\\\\Users\\\\samca\\\\anaconda3',\n",
       " '',\n",
       " 'C:\\\\Users\\\\samca\\\\AppData\\\\Roaming\\\\Python\\\\Python38\\\\site-packages',\n",
       " 'C:\\\\Users\\\\samca\\\\anaconda3\\\\lib\\\\site-packages',\n",
       " 'C:\\\\Users\\\\samca\\\\anaconda3\\\\lib\\\\site-packages\\\\locket-0.2.1-py3.8.egg',\n",
       " 'C:\\\\Users\\\\samca\\\\anaconda3\\\\lib\\\\site-packages\\\\win32',\n",
       " 'C:\\\\Users\\\\samca\\\\anaconda3\\\\lib\\\\site-packages\\\\win32\\\\lib',\n",
       " 'C:\\\\Users\\\\samca\\\\anaconda3\\\\lib\\\\site-packages\\\\Pythonwin',\n",
       " 'C:\\\\Users\\\\samca\\\\anaconda3\\\\lib\\\\site-packages\\\\IPython\\\\extensions',\n",
       " 'C:\\\\Users\\\\samca\\\\.ipython',\n",
       " 'C:\\\\Users\\\\samca\\\\Documents\\\\Python Projects\\\\nextgen2025-codingbootcamp-session06']"
      ]
     },
     "execution_count": 6,
     "metadata": {},
     "output_type": "execute_result"
    }
   ],
   "source": [
    "# however we can add our own paths the system path so it knows what `src` is\n",
    "from pathlib import Path\n",
    "\n",
    "p = str(Path(\".\").absolute().resolve().parent)\n",
    "sys.path.append(p)\n",
    "\n",
    "\n",
    "sys.path"
   ]
  },
  {
   "cell_type": "code",
   "execution_count": 7,
   "metadata": {},
   "outputs": [],
   "source": [
    "# now we do have access to it\n",
    "import src"
   ]
  },
  {
   "cell_type": "markdown",
   "metadata": {},
   "source": [
    "Excellent, we should now be able to import and use the code we defined in `src` in this notebook and any others. A benefit of this is, if we change the `FashionMnist` code, this will be reflected across all of the notebooks. However, when we modify a module that has already been loaded into the Python/Jupyter kernel we will need to re-start the code to reflect these changes."
   ]
  },
  {
   "cell_type": "code",
   "execution_count": 8,
   "metadata": {},
   "outputs": [
    {
     "data": {
      "text/plain": [
       "WindowsPath('C:/Users/samca/Documents/Python Projects/nextgen2025-codingbootcamp-session06/data/fashion_mnist')"
      ]
     },
     "execution_count": 8,
     "metadata": {},
     "output_type": "execute_result"
    }
   ],
   "source": [
    "# lets use the utils to download and create the fashion mnist dataset\n",
    "from src.utils import download_fashion_mnist\n",
    "download_fashion_mnist(\"../data\")"
   ]
  },
  {
   "cell_type": "code",
   "execution_count": 9,
   "metadata": {},
   "outputs": [],
   "source": [
    "# lets re-uuse the dataset in `src.datasets` \n",
    "from src.datasets import FashionMnist\n",
    "dataset = FashionMnist(\"../data/fashion_mnist\")"
   ]
  },
  {
   "cell_type": "code",
   "execution_count": 10,
   "metadata": {},
   "outputs": [
    {
     "data": {
      "image/png": "[encoded data removed]",
      "text/plain": [
       "<Figure size 360x360 with 1 Axes>"
      ]
     },
     "metadata": {
      "needs_background": "light"
     },
     "output_type": "display_data"
    }
   ],
   "source": [
    "import matplotlib.pyplot as plt\n",
    "\n",
    "for img, lbl in dataset:\n",
    "    # plot the sample and the label\n",
    "    fig, ax = plt.subplots(figsize=(5,5))\n",
    "    ax.imshow(img)\n",
    "    ax.set_title(f\"Label: {lbl}\")\n",
    "    \n",
    "    break"
   ]
  },
  {
   "cell_type": "code",
   "execution_count": null,
   "metadata": {},
   "outputs": [],
   "source": []
  }
 ],
 "metadata": {
  "kernelspec": {
   "display_name": "Python 3 (ipykernel)",
   "language": "python",
   "name": "python3"
  },
  "language_info": {
   "codemirror_mode": {
    "name": "ipython",
    "version": 3
   },
   "file_extension": ".py",
   "mimetype": "text/x-python",
   "name": "python",
   "nbconvert_exporter": "python",
   "pygments_lexer": "ipython3",
   "version": "3.8.11"
  }
 },
 "nbformat": 4,
 "nbformat_minor": 2
}
