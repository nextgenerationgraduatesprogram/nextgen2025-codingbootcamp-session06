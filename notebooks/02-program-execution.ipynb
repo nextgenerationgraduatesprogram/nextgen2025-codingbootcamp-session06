{
 "cells": [
  {
   "cell_type": "markdown",
   "metadata": {},
   "source": [
    "# Python Scripts & Program Execution\n",
    "\n",
    "When should we use scripts? Jupyter notebooks encourage tweaking and exploration, while this is an important part of the development process, we often get to a point where we just want to run the notebook from start to finish i.e. to perform some data processing. When the notebook is operating more as code we want to execute sequentially and repeatedly it's time to switch to scripts.\n",
    "\n",
    "What is a Python script? A Python script is a standalone file (.py) designed for sequential execution. Unlike modules, which are meant for organizing reusable code, scripts are executed directly. Scripts offer better maintainability, version control, performance, and automation, making them ideal for reproducible workflows and deployment.  \n",
    "\n",
    "What happens when you run a script? When a script runs, Python parses the code, compiles it to bytecode, and executes it within the Python Virtual Machine (PVM). This structured approach avoids issues like hidden states in notebooks and ensures predictable execution."
   ]
  },
  {
   "cell_type": "markdown",
   "metadata": {},
   "source": [
    "## 00. Getting Setup"
   ]
  },
  {
   "cell_type": "code",
   "execution_count": 1,
   "metadata": {},
   "outputs": [
    {
     "name": "stdout",
     "output_type": "stream",
     "text": [
      "Requirement already satisfied: pip in c:\\users\\can134\\onedrive - csiro\\documents\\csiro\\nextgen\\2025\\coding-bootcamp\\nextgen2025-codingbootcamp-session06\\.venv\\lib\\site-packages (25.0)\n",
      "Requirement already satisfied: ipykernel in c:\\users\\can134\\onedrive - csiro\\documents\\csiro\\nextgen\\2025\\coding-bootcamp\\nextgen2025-codingbootcamp-session06\\.venv\\lib\\site-packages (from -r ../requirements.txt (line 1)) (6.29.5)\n",
      "Requirement already satisfied: opencv-python in c:\\users\\can134\\onedrive - csiro\\documents\\csiro\\nextgen\\2025\\coding-bootcamp\\nextgen2025-codingbootcamp-session06\\.venv\\lib\\site-packages (from -r ../requirements.txt (line 2)) (4.11.0.86)\n",
      "Requirement already satisfied: pandas in c:\\users\\can134\\onedrive - csiro\\documents\\csiro\\nextgen\\2025\\coding-bootcamp\\nextgen2025-codingbootcamp-session06\\.venv\\lib\\site-packages (from -r ../requirements.txt (line 3)) (2.2.3)\n",
      "Requirement already satisfied: matplotlib in c:\\users\\can134\\onedrive - csiro\\documents\\csiro\\nextgen\\2025\\coding-bootcamp\\nextgen2025-codingbootcamp-session06\\.venv\\lib\\site-packages (from -r ../requirements.txt (line 4)) (3.10.0)\n",
      "Requirement already satisfied: numpy in c:\\users\\can134\\onedrive - csiro\\documents\\csiro\\nextgen\\2025\\coding-bootcamp\\nextgen2025-codingbootcamp-session06\\.venv\\lib\\site-packages (from -r ../requirements.txt (line 5)) (2.2.2)\n",
      "Requirement already satisfied: comm>=0.1.1 in c:\\users\\can134\\onedrive - csiro\\documents\\csiro\\nextgen\\2025\\coding-bootcamp\\nextgen2025-codingbootcamp-session06\\.venv\\lib\\site-packages (from ipykernel->-r ../requirements.txt (line 1)) (0.2.2)\n",
      "Requirement already satisfied: debugpy>=1.6.5 in c:\\users\\can134\\onedrive - csiro\\documents\\csiro\\nextgen\\2025\\coding-bootcamp\\nextgen2025-codingbootcamp-session06\\.venv\\lib\\site-packages (from ipykernel->-r ../requirements.txt (line 1)) (1.8.11)\n",
      "Requirement already satisfied: ipython>=7.23.1 in c:\\users\\can134\\onedrive - csiro\\documents\\csiro\\nextgen\\2025\\coding-bootcamp\\nextgen2025-codingbootcamp-session06\\.venv\\lib\\site-packages (from ipykernel->-r ../requirements.txt (line 1)) (8.31.0)\n",
      "Requirement already satisfied: jupyter-client>=6.1.12 in c:\\users\\can134\\onedrive - csiro\\documents\\csiro\\nextgen\\2025\\coding-bootcamp\\nextgen2025-codingbootcamp-session06\\.venv\\lib\\site-packages (from ipykernel->-r ../requirements.txt (line 1)) (8.6.3)\n",
      "Requirement already satisfied: jupyter-core!=5.0.*,>=4.12 in c:\\users\\can134\\onedrive - csiro\\documents\\csiro\\nextgen\\2025\\coding-bootcamp\\nextgen2025-codingbootcamp-session06\\.venv\\lib\\site-packages (from ipykernel->-r ../requirements.txt (line 1)) (5.7.2)\n",
      "Requirement already satisfied: matplotlib-inline>=0.1 in c:\\users\\can134\\onedrive - csiro\\documents\\csiro\\nextgen\\2025\\coding-bootcamp\\nextgen2025-codingbootcamp-session06\\.venv\\lib\\site-packages (from ipykernel->-r ../requirements.txt (line 1)) (0.1.7)\n",
      "Requirement already satisfied: nest-asyncio in c:\\users\\can134\\onedrive - csiro\\documents\\csiro\\nextgen\\2025\\coding-bootcamp\\nextgen2025-codingbootcamp-session06\\.venv\\lib\\site-packages (from ipykernel->-r ../requirements.txt (line 1)) (1.6.0)\n",
      "Requirement already satisfied: packaging in c:\\users\\can134\\onedrive - csiro\\documents\\csiro\\nextgen\\2025\\coding-bootcamp\\nextgen2025-codingbootcamp-session06\\.venv\\lib\\site-packages (from ipykernel->-r ../requirements.txt (line 1)) (24.2)\n",
      "Requirement already satisfied: psutil in c:\\users\\can134\\onedrive - csiro\\documents\\csiro\\nextgen\\2025\\coding-bootcamp\\nextgen2025-codingbootcamp-session06\\.venv\\lib\\site-packages (from ipykernel->-r ../requirements.txt (line 1)) (6.1.1)\n",
      "Requirement already satisfied: pyzmq>=24 in c:\\users\\can134\\onedrive - csiro\\documents\\csiro\\nextgen\\2025\\coding-bootcamp\\nextgen2025-codingbootcamp-session06\\.venv\\lib\\site-packages (from ipykernel->-r ../requirements.txt (line 1)) (26.2.0)\n",
      "Requirement already satisfied: tornado>=6.1 in c:\\users\\can134\\onedrive - csiro\\documents\\csiro\\nextgen\\2025\\coding-bootcamp\\nextgen2025-codingbootcamp-session06\\.venv\\lib\\site-packages (from ipykernel->-r ../requirements.txt (line 1)) (6.4.2)\n",
      "Requirement already satisfied: traitlets>=5.4.0 in c:\\users\\can134\\onedrive - csiro\\documents\\csiro\\nextgen\\2025\\coding-bootcamp\\nextgen2025-codingbootcamp-session06\\.venv\\lib\\site-packages (from ipykernel->-r ../requirements.txt (line 1)) (5.14.3)\n",
      "Requirement already satisfied: python-dateutil>=2.8.2 in c:\\users\\can134\\onedrive - csiro\\documents\\csiro\\nextgen\\2025\\coding-bootcamp\\nextgen2025-codingbootcamp-session06\\.venv\\lib\\site-packages (from pandas->-r ../requirements.txt (line 3)) (2.9.0.post0)\n",
      "Requirement already satisfied: pytz>=2020.1 in c:\\users\\can134\\onedrive - csiro\\documents\\csiro\\nextgen\\2025\\coding-bootcamp\\nextgen2025-codingbootcamp-session06\\.venv\\lib\\site-packages (from pandas->-r ../requirements.txt (line 3)) (2025.1)\n",
      "Requirement already satisfied: tzdata>=2022.7 in c:\\users\\can134\\onedrive - csiro\\documents\\csiro\\nextgen\\2025\\coding-bootcamp\\nextgen2025-codingbootcamp-session06\\.venv\\lib\\site-packages (from pandas->-r ../requirements.txt (line 3)) (2025.1)\n",
      "Requirement already satisfied: contourpy>=1.0.1 in c:\\users\\can134\\onedrive - csiro\\documents\\csiro\\nextgen\\2025\\coding-bootcamp\\nextgen2025-codingbootcamp-session06\\.venv\\lib\\site-packages (from matplotlib->-r ../requirements.txt (line 4)) (1.3.1)\n",
      "Requirement already satisfied: cycler>=0.10 in c:\\users\\can134\\onedrive - csiro\\documents\\csiro\\nextgen\\2025\\coding-bootcamp\\nextgen2025-codingbootcamp-session06\\.venv\\lib\\site-packages (from matplotlib->-r ../requirements.txt (line 4)) (0.12.1)\n",
      "Requirement already satisfied: fonttools>=4.22.0 in c:\\users\\can134\\onedrive - csiro\\documents\\csiro\\nextgen\\2025\\coding-bootcamp\\nextgen2025-codingbootcamp-session06\\.venv\\lib\\site-packages (from matplotlib->-r ../requirements.txt (line 4)) (4.55.8)\n",
      "Requirement already satisfied: kiwisolver>=1.3.1 in c:\\users\\can134\\onedrive - csiro\\documents\\csiro\\nextgen\\2025\\coding-bootcamp\\nextgen2025-codingbootcamp-session06\\.venv\\lib\\site-packages (from matplotlib->-r ../requirements.txt (line 4)) (1.4.8)\n",
      "Requirement already satisfied: pillow>=8 in c:\\users\\can134\\onedrive - csiro\\documents\\csiro\\nextgen\\2025\\coding-bootcamp\\nextgen2025-codingbootcamp-session06\\.venv\\lib\\site-packages (from matplotlib->-r ../requirements.txt (line 4)) (11.1.0)\n",
      "Requirement already satisfied: pyparsing>=2.3.1 in c:\\users\\can134\\onedrive - csiro\\documents\\csiro\\nextgen\\2025\\coding-bootcamp\\nextgen2025-codingbootcamp-session06\\.venv\\lib\\site-packages (from matplotlib->-r ../requirements.txt (line 4)) (3.2.1)\n",
      "Requirement already satisfied: colorama in c:\\users\\can134\\onedrive - csiro\\documents\\csiro\\nextgen\\2025\\coding-bootcamp\\nextgen2025-codingbootcamp-session06\\.venv\\lib\\site-packages (from ipython>=7.23.1->ipykernel->-r ../requirements.txt (line 1)) (0.4.6)\n",
      "Requirement already satisfied: decorator in c:\\users\\can134\\onedrive - csiro\\documents\\csiro\\nextgen\\2025\\coding-bootcamp\\nextgen2025-codingbootcamp-session06\\.venv\\lib\\site-packages (from ipython>=7.23.1->ipykernel->-r ../requirements.txt (line 1)) (5.1.1)\n",
      "Requirement already satisfied: exceptiongroup in c:\\users\\can134\\onedrive - csiro\\documents\\csiro\\nextgen\\2025\\coding-bootcamp\\nextgen2025-codingbootcamp-session06\\.venv\\lib\\site-packages (from ipython>=7.23.1->ipykernel->-r ../requirements.txt (line 1)) (1.2.2)\n",
      "Requirement already satisfied: jedi>=0.16 in c:\\users\\can134\\onedrive - csiro\\documents\\csiro\\nextgen\\2025\\coding-bootcamp\\nextgen2025-codingbootcamp-session06\\.venv\\lib\\site-packages (from ipython>=7.23.1->ipykernel->-r ../requirements.txt (line 1)) (0.19.2)\n",
      "Requirement already satisfied: prompt_toolkit<3.1.0,>=3.0.41 in c:\\users\\can134\\onedrive - csiro\\documents\\csiro\\nextgen\\2025\\coding-bootcamp\\nextgen2025-codingbootcamp-session06\\.venv\\lib\\site-packages (from ipython>=7.23.1->ipykernel->-r ../requirements.txt (line 1)) (3.0.48)\n",
      "Requirement already satisfied: pygments>=2.4.0 in c:\\users\\can134\\onedrive - csiro\\documents\\csiro\\nextgen\\2025\\coding-bootcamp\\nextgen2025-codingbootcamp-session06\\.venv\\lib\\site-packages (from ipython>=7.23.1->ipykernel->-r ../requirements.txt (line 1)) (2.19.1)\n",
      "Requirement already satisfied: stack_data in c:\\users\\can134\\onedrive - csiro\\documents\\csiro\\nextgen\\2025\\coding-bootcamp\\nextgen2025-codingbootcamp-session06\\.venv\\lib\\site-packages (from ipython>=7.23.1->ipykernel->-r ../requirements.txt (line 1)) (0.6.3)\n",
      "Requirement already satisfied: typing_extensions>=4.6 in c:\\users\\can134\\onedrive - csiro\\documents\\csiro\\nextgen\\2025\\coding-bootcamp\\nextgen2025-codingbootcamp-session06\\.venv\\lib\\site-packages (from ipython>=7.23.1->ipykernel->-r ../requirements.txt (line 1)) (4.12.2)\n",
      "Requirement already satisfied: platformdirs>=2.5 in c:\\users\\can134\\onedrive - csiro\\documents\\csiro\\nextgen\\2025\\coding-bootcamp\\nextgen2025-codingbootcamp-session06\\.venv\\lib\\site-packages (from jupyter-core!=5.0.*,>=4.12->ipykernel->-r ../requirements.txt (line 1)) (4.3.6)\n",
      "Requirement already satisfied: pywin32>=300 in c:\\users\\can134\\onedrive - csiro\\documents\\csiro\\nextgen\\2025\\coding-bootcamp\\nextgen2025-codingbootcamp-session06\\.venv\\lib\\site-packages (from jupyter-core!=5.0.*,>=4.12->ipykernel->-r ../requirements.txt (line 1)) (308)\n",
      "Requirement already satisfied: six>=1.5 in c:\\users\\can134\\onedrive - csiro\\documents\\csiro\\nextgen\\2025\\coding-bootcamp\\nextgen2025-codingbootcamp-session06\\.venv\\lib\\site-packages (from python-dateutil>=2.8.2->pandas->-r ../requirements.txt (line 3)) (1.17.0)\n",
      "Requirement already satisfied: parso<0.9.0,>=0.8.4 in c:\\users\\can134\\onedrive - csiro\\documents\\csiro\\nextgen\\2025\\coding-bootcamp\\nextgen2025-codingbootcamp-session06\\.venv\\lib\\site-packages (from jedi>=0.16->ipython>=7.23.1->ipykernel->-r ../requirements.txt (line 1)) (0.8.4)\n",
      "Requirement already satisfied: wcwidth in c:\\users\\can134\\onedrive - csiro\\documents\\csiro\\nextgen\\2025\\coding-bootcamp\\nextgen2025-codingbootcamp-session06\\.venv\\lib\\site-packages (from prompt_toolkit<3.1.0,>=3.0.41->ipython>=7.23.1->ipykernel->-r ../requirements.txt (line 1)) (0.2.13)\n",
      "Requirement already satisfied: executing>=1.2.0 in c:\\users\\can134\\onedrive - csiro\\documents\\csiro\\nextgen\\2025\\coding-bootcamp\\nextgen2025-codingbootcamp-session06\\.venv\\lib\\site-packages (from stack_data->ipython>=7.23.1->ipykernel->-r ../requirements.txt (line 1)) (2.1.0)\n",
      "Requirement already satisfied: asttokens>=2.1.0 in c:\\users\\can134\\onedrive - csiro\\documents\\csiro\\nextgen\\2025\\coding-bootcamp\\nextgen2025-codingbootcamp-session06\\.venv\\lib\\site-packages (from stack_data->ipython>=7.23.1->ipykernel->-r ../requirements.txt (line 1)) (3.0.0)\n",
      "Requirement already satisfied: pure-eval in c:\\users\\can134\\onedrive - csiro\\documents\\csiro\\nextgen\\2025\\coding-bootcamp\\nextgen2025-codingbootcamp-session06\\.venv\\lib\\site-packages (from stack_data->ipython>=7.23.1->ipykernel->-r ../requirements.txt (line 1)) (0.2.3)\n"
     ]
    }
   ],
   "source": [
    "!pip install --upgrade pip\n",
    "!pip install -r ../requirements.txt"
   ]
  },
  {
   "cell_type": "markdown",
   "metadata": {},
   "source": [
    "## 01. Python Execution\n",
    "\n",
    "In the previous notebook we covered what Python can \"see\" when it's trying to import something. Another important aspect of executing Python code is where this code is being run, we call this the \"working directory\".\n",
    "\n",
    "What is the working directory? The working directory is the directory where Python looks for files by default, searches for modules, reads and writes files, etc. is the filesystem location where the Python code is running from."
   ]
  },
  {
   "cell_type": "code",
   "execution_count": 2,
   "metadata": {},
   "outputs": [
    {
     "name": "stdout",
     "output_type": "stream",
     "text": [
      "c:\\Users\\can134\\OneDrive - CSIRO\\Documents\\CSIRO\\NextGen\\2025\\coding-bootcamp\\nextgen2025-codingbootcamp-session06\\notebooks\n"
     ]
    }
   ],
   "source": [
    "import os\n",
    "print(os.getcwd())"
   ]
  },
  {
   "cell_type": "code",
   "execution_count": 3,
   "metadata": {},
   "outputs": [
    {
     "name": "stdout",
     "output_type": "stream",
     "text": [
      "C:\\Users\\can134\\OneDrive - CSIRO\\Documents\\CSIRO\\NextGen\\2025\\coding-bootcamp\\nextgen2025-codingbootcamp-session06\\notebooks\n"
     ]
    }
   ],
   "source": [
    "from pathlib import Path\n",
    "print(Path(\".\").absolute().resolve())"
   ]
  },
  {
   "cell_type": "code",
   "execution_count": 4,
   "metadata": {},
   "outputs": [],
   "source": [
    "# find items in current directory with `pathlib`"
   ]
  },
  {
   "cell_type": "code",
   "execution_count": 5,
   "metadata": {},
   "outputs": [],
   "source": [
    "# \".\" defaults to our current working directory, we can then make changes relative to this"
   ]
  },
  {
   "cell_type": "markdown",
   "metadata": {},
   "source": [
    "Whenever we run code, each Python module will also add some extra variables to each module called double underscore attributes, or dunder for short. These allow Python and us to figure out what the name of a file is an if it's the main code being run and provide global information."
   ]
  },
  {
   "cell_type": "code",
   "execution_count": null,
   "metadata": {},
   "outputs": [],
   "source": [
    "# explore some __dunder__ attributes"
   ]
  },
  {
   "cell_type": "code",
   "execution_count": null,
   "metadata": {},
   "outputs": [],
   "source": []
  },
  {
   "cell_type": "code",
   "execution_count": null,
   "metadata": {},
   "outputs": [],
   "source": []
  },
  {
   "cell_type": "markdown",
   "metadata": {},
   "source": [
    "## 02. Python Scripts\n",
    "\n",
    "A Python script is just a Python module aka. a file containing some Python code, typically with a `.py` extension, that is designed to be executed as a standalone piece of code rather than as an organizational tool. Let's take a look at running some scripts.\n",
    "\n",
    "Typically we would run scripts from the commandline by typing `python <path>/<to>/<script>.py`, using `!` we can also do this from inside a notebook with some caveats."
   ]
  },
  {
   "cell_type": "code",
   "execution_count": 9,
   "metadata": {},
   "outputs": [
    {
     "name": "stdout",
     "output_type": "stream",
     "text": [
      "hello world\n"
     ]
    }
   ],
   "source": [
    "!python ../scripts/script.py"
   ]
  },
  {
   "cell_type": "code",
   "execution_count": 10,
   "metadata": {},
   "outputs": [],
   "source": [
    "# explore some different aspects of scripts e.g. __dunder__ methods and their execution"
   ]
  },
  {
   "cell_type": "markdown",
   "metadata": {},
   "source": [
    "## 03. Scripts as Jobs\n",
    "\n",
    "We essentially want to treat scripts as blocks of code to be executed in a repeatable manner, this significantly improves the reproducibility of our work.\n",
    "\n",
    "Let's create a script which downloads the dataset, creates an interface for the dataset, and does some processing to it."
   ]
  },
  {
   "cell_type": "code",
   "execution_count": 33,
   "metadata": {},
   "outputs": [
    {
     "name": "stdout",
     "output_type": "stream",
     "text": [
      "0 has label 9 with img of shape (28, 28, 3)\n",
      "1 has label 2 with img of shape (28, 28, 3)\n",
      "2 has label 1 with img of shape (28, 28, 3)\n",
      "3 has label 1 with img of shape (28, 28, 3)\n",
      "4 has label 6 with img of shape (28, 28, 3)\n",
      "5 has label 1 with img of shape (28, 28, 3)\n",
      "6 has label 4 with img of shape (28, 28, 3)\n",
      "7 has label 6 with img of shape (28, 28, 3)\n",
      "8 has label 5 with img of shape (28, 28, 3)\n",
      "9 has label 7 with img of shape (28, 28, 3)\n"
     ]
    }
   ],
   "source": [
    "!python ../scripts/script_with_dataset.py"
   ]
  },
  {
   "cell_type": "code",
   "execution_count": null,
   "metadata": {},
   "outputs": [],
   "source": []
  }
 ],
 "metadata": {
  "kernelspec": {
   "display_name": ".venv",
   "language": "python",
   "name": "python3"
  },
  "language_info": {
   "codemirror_mode": {
    "name": "ipython",
    "version": 3
   },
   "file_extension": ".py",
   "mimetype": "text/x-python",
   "name": "python",
   "nbconvert_exporter": "python",
   "pygments_lexer": "ipython3",
   "version": "3.10.11"
  }
 },
 "nbformat": 4,
 "nbformat_minor": 2
}
