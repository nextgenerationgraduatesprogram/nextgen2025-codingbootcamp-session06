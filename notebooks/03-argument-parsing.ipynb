{
 "cells": [
  {
   "cell_type": "markdown",
   "metadata": {},
   "source": [
    "# System Arguments & Argument Parsing\n",
    "\n",
    "So this is all great, we've moved our code into modules and made it more re-usable. We also have a script which lets us run the same code repeatedly to improve reproducibility and maintainability. However, what if we want to change some small aspect of the code i.e. where to download the data, or what samples to use in the dataset, etc.\n",
    "\n",
    "We want to provide arguments to our script which modify it's behaviour, similarly to changing variables in notebooks, but more programatically and in a structured manner. The way we can archieve this is through system arguments and argument parsing."
   ]
  },
  {
   "cell_type": "markdown",
   "metadata": {},
   "source": [
    "## 00. Getting Setup"
   ]
  },
  {
   "cell_type": "code",
   "execution_count": null,
   "metadata": {},
   "outputs": [],
   "source": [
    "!pip install --upgrade pip\n",
    "!pip install -r ../requirements.txt"
   ]
  },
  {
   "cell_type": "markdown",
   "metadata": {},
   "source": [
    "## 01. System Arguments\n",
    "\n",
    "What are system arguments? System arguments are command-line inputs which are passed to a Python script when it is executed, it allows us to dynamically provide inputs to the script without modifying the script itself.\n",
    "\n",
    "In Python, these are accessed using the `sys.argv` list."
   ]
  },
  {
   "cell_type": "code",
   "execution_count": 8,
   "metadata": {},
   "outputs": [
    {
     "name": "stdout",
     "output_type": "stream",
     "text": [
      "c:\\Users\\can134\\OneDrive - CSIRO\\Documents\\CSIRO\\NextGen\\2025\\coding-bootcamp\\nextgen2025-codingbootcamp-session06\\.venv\\lib\\site-packages\\ipykernel_launcher.py\n",
      "--f=c:\\Users\\can134\\AppData\\Roaming\\jupyter\\runtime\\kernel-v31722c29693e472717118e8489b451d4919c26281.json\n"
     ]
    }
   ],
   "source": [
    "import sys\n",
    "\n",
    "for arg in sys.argv:\n",
    "    print(arg)"
   ]
  },
  {
   "cell_type": "code",
   "execution_count": 9,
   "metadata": {},
   "outputs": [
    {
     "data": {
      "text/plain": [
       "'c:\\\\Users\\\\can134\\\\OneDrive - CSIRO\\\\Documents\\\\CSIRO\\\\NextGen\\\\2025\\\\coding-bootcamp\\\\nextgen2025-codingbootcamp-session06\\\\.venv\\\\lib\\\\site-packages\\\\ipykernel_launcher.py'"
      ]
     },
     "execution_count": 9,
     "metadata": {},
     "output_type": "execute_result"
    }
   ],
   "source": [
    "# first arg is the script name\n",
    "sys.argv[0]"
   ]
  },
  {
   "cell_type": "code",
   "execution_count": 10,
   "metadata": {},
   "outputs": [
    {
     "data": {
      "text/plain": [
       "['--f=c:\\\\Users\\\\can134\\\\AppData\\\\Roaming\\\\jupyter\\\\runtime\\\\kernel-v31722c29693e472717118e8489b451d4919c26281.json']"
      ]
     },
     "execution_count": 10,
     "metadata": {},
     "output_type": "execute_result"
    }
   ],
   "source": [
    "# second arg and beyond are provided args\n",
    "sys.argv[1:]"
   ]
  },
  {
   "cell_type": "markdown",
   "metadata": {},
   "source": [
    "So if we run a script with some additional arguments, we can observe how these get passed to the Python script via. the system arguments."
   ]
  },
  {
   "cell_type": "code",
   "execution_count": null,
   "metadata": {},
   "outputs": [
    {
     "name": "stdout",
     "output_type": "stream",
     "text": [
      "['../scripts/script_with_args.py', 'arg1', 'arg2']\n",
      "0 ../scripts/script_with_args.py\n",
      "1 arg1\n",
      "2 arg2\n"
     ]
    }
   ],
   "source": [
    "# explore adding some arguments\n",
    "!python ../scripts/script_with_args.py"
   ]
  },
  {
   "cell_type": "code",
   "execution_count": null,
   "metadata": {},
   "outputs": [],
   "source": []
  },
  {
   "cell_type": "markdown",
   "metadata": {},
   "source": [
    "We can use these system arguments to change what our script does and it provides us a tremendous amount of flexibility, however what happens if the user doesn't provide the right input, or provides the wrong datatype, or the wrong order? "
   ]
  },
  {
   "cell_type": "code",
   "execution_count": 16,
   "metadata": {},
   "outputs": [
    {
     "name": "stdout",
     "output_type": "stream",
     "text": [
      "{}\n"
     ]
    },
    {
     "name": "stderr",
     "output_type": "stream",
     "text": [
      "Traceback (most recent call last):\n",
      "  File \"c:\\Users\\can134\\OneDrive - CSIRO\\Documents\\CSIRO\\NextGen\\2025\\coding-bootcamp\\nextgen2025-codingbootcamp-session06\\scripts\\script_with_custom_argparsing.py\", line 16, in <module>\n",
      "    assert \"x\" in parsed_args, f\"must provide x\"\n",
      "AssertionError: must provide x\n"
     ]
    }
   ],
   "source": [
    "# see if you can break the following script\n",
    "!python ../scripts/script_with_custom_argparsing.py"
   ]
  },
  {
   "cell_type": "markdown",
   "metadata": {},
   "source": [
    "## 02. Argument Parsing\n",
    "\n",
    "We want a structured way to deal with the arguments, we could do this ourselves by writing a custom way to parse the arguments, however this quickly becomes messy. Luckily, like many things in Python this has already been done for us, we can use the `argparse` library to implement a customizable argument parsing scheme."
   ]
  },
  {
   "cell_type": "code",
   "execution_count": 20,
   "metadata": {},
   "outputs": [
    {
     "name": "stdout",
     "output_type": "stream",
     "text": [
      "Namespace(x='10')\n",
      "10 <class 'str'>\n"
     ]
    }
   ],
   "source": [
    "import argparse\n",
    "\n",
    "parser = argparse.ArgumentParser(description=\"parse some args\")\n",
    "parser.add_argument(\"--x\", help=\"x-value\")\n",
    "\n",
    "args = parser.parse_args([\"--x\", \"10\"])\n",
    "print(args)\n",
    "\n",
    "print(args.x, type(args.x))"
   ]
  },
  {
   "cell_type": "code",
   "execution_count": 22,
   "metadata": {},
   "outputs": [
    {
     "name": "stdout",
     "output_type": "stream",
     "text": [
      "usage: script_with_argparse.py [-h] --root ROOT [--regex REGEX]\n",
      "\n",
      "Downloads and processes the FashionMNIST dataset.\n",
      "\n",
      "options:\n",
      "  -h, --help     show this help message and exit\n",
      "  --root ROOT    Root directory to store the dataset into.\n",
      "  --regex REGEX  Regular expression to use for matching samples in the\n",
      "                 dataset.\n",
      "\n",
      "Please contact sam.cantrill@data61.csiro.au for further help.\n"
     ]
    }
   ],
   "source": [
    "!python ../scripts/script_with_argparse.py --help"
   ]
  },
  {
   "cell_type": "markdown",
   "metadata": {},
   "source": [
    "## 03. Scripts with Argument Parsing"
   ]
  },
  {
   "cell_type": "code",
   "execution_count": 6,
   "metadata": {},
   "outputs": [
    {
     "name": "stdout",
     "output_type": "stream",
     "text": [
      "sample 0 has label 2 with img of shape (28, 28, 3)\n",
      "sample 1 has label 1 with img of shape (28, 28, 3)\n",
      "sample 2 has label 1 with img of shape (28, 28, 3)\n"
     ]
    }
   ],
   "source": [
    "!python ../scripts/script_with_dataset_and_argparse.py --root ../data --regex \"[1-3]\""
   ]
  },
  {
   "cell_type": "code",
   "execution_count": null,
   "metadata": {},
   "outputs": [],
   "source": []
  }
 ],
 "metadata": {
  "kernelspec": {
   "display_name": ".venv",
   "language": "python",
   "name": "python3"
  },
  "language_info": {
   "codemirror_mode": {
    "name": "ipython",
    "version": 3
   },
   "file_extension": ".py",
   "mimetype": "text/x-python",
   "name": "python",
   "nbconvert_exporter": "python",
   "pygments_lexer": "ipython3",
   "version": "3.10.11"
  }
 },
 "nbformat": 4,
 "nbformat_minor": 2
}
