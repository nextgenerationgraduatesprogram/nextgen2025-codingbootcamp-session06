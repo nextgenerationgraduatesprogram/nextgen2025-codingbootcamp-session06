{
 "cells": [
  {
   "cell_type": "markdown",
   "metadata": {},
   "source": [
    "# Python Modules\n",
    "\n",
    "One of the main issues with notebooks is code reusability, if we have a block of code that performs a specific function, we often want to re-use that across multiple different notebooks. This is where Python modules come in, they're a way to organize and structure our code.\n",
    "\n",
    "Python modules are files containing Python code, such as functions, classes, or variables, that can be re-used in multiple different locations. They help organize and structure your code efficiently and makes sure that it's re-usable.\n",
    "\n",
    "Libraries like `pandas` are collections of Python modules and packages that other people have design, we can also write our own modules and libraries."
   ]
  },
  {
   "cell_type": "markdown",
   "metadata": {},
   "source": [
    "## 00. Getting Setup"
   ]
  },
  {
   "cell_type": "code",
   "execution_count": null,
   "metadata": {},
   "outputs": [],
   "source": [
    "!pip install --upgrade pip --user\n",
    "!pip install -r ../requirements.txt --user"
   ]
  },
  {
   "cell_type": "markdown",
   "metadata": {},
   "source": [
    "## 01. In-built Python Modules\n",
    "\n",
    "You can go and have a look at these on GitHub if you want https://github.com/python/cpython/tree/main/Lib."
   ]
  },
  {
   "cell_type": "code",
   "execution_count": null,
   "metadata": {},
   "outputs": [],
   "source": [
    "# math is just a python module that structures code that we can interface with\n",
    "import math"
   ]
  },
  {
   "cell_type": "code",
   "execution_count": null,
   "metadata": {},
   "outputs": [],
   "source": [
    "print(dir(math))"
   ]
  },
  {
   "cell_type": "code",
   "execution_count": null,
   "metadata": {},
   "outputs": [],
   "source": [
    "print(vars(math))"
   ]
  },
  {
   "cell_type": "markdown",
   "metadata": {},
   "source": [
    "So Python has some built-in modules that we can use, when we install libraries they also become available to use. What determines what modules Python has access to and can import when it runs? The system path determines what Python can \"see\" and import, we can look at this using the in-built `sys` library."
   ]
  },
  {
   "cell_type": "code",
   "execution_count": null,
   "metadata": {},
   "outputs": [],
   "source": [
    "import sys\n",
    "sys.path"
   ]
  },
  {
   "cell_type": "markdown",
   "metadata": {},
   "source": [
    "Say we have some code we want to re-use, if we go over to the Python modules in `src`, we can see I've just copied over the code from the last workshops including our `FashionMnist` and some utilities for downloading the dataset. Whilst notebooks are good for rapid prototyping, organizing our code in modules makes it much more modular and re-usable.\n",
    "\n",
    "So, next we're going to figure out how to use it."
   ]
  },
  {
   "cell_type": "code",
   "execution_count": null,
   "metadata": {},
   "outputs": [],
   "source": [
    "# if we try and import src we dont have access to it\n",
    "import src"
   ]
  },
  {
   "cell_type": "code",
   "execution_count": null,
   "metadata": {},
   "outputs": [],
   "source": [
    "# however we can add our own paths the system path so it knows what `src` is\n",
    "..."
   ]
  },
  {
   "cell_type": "code",
   "execution_count": null,
   "metadata": {},
   "outputs": [],
   "source": [
    "# now we do have access to it\n",
    "import src"
   ]
  },
  {
   "cell_type": "markdown",
   "metadata": {},
   "source": [
    "Excellent, we should now be able to import and use the code we defined in `src` in this notebook and any others. A benefit of this is, if we change the `FashionMnist` code, this will be reflected across all of the notebooks. However, when we modify a module that has already been loaded into the Python/Jupyter kernel we will need to re-start the code to reflect these changes."
   ]
  },
  {
   "cell_type": "code",
   "execution_count": null,
   "metadata": {},
   "outputs": [],
   "source": [
    "# lets use the utils to download and create the fashion mnist dataset\n",
    "from src.utils import download_fashion_mnist\n",
    "download_fashion_mnist(\"../data\")"
   ]
  },
  {
   "cell_type": "code",
   "execution_count": null,
   "metadata": {},
   "outputs": [],
   "source": [
    "# lets re-uuse the dataset in `src.datasets` \n",
    "from src.datasets import FashionMnist\n",
    "dataset = FashionMnist(\"../data/fashion_mnist\")"
   ]
  },
  {
   "cell_type": "code",
   "execution_count": null,
   "metadata": {},
   "outputs": [],
   "source": [
    "import matplotlib.pyplot as plt\n",
    "\n",
    "for img, lbl in dataset:\n",
    "    # plot the sample and the label\n",
    "    fig, ax = plt.subplots(figsize=(5,5))\n",
    "    ax.imshow(img)\n",
    "    ax.set_title(f\"Label: {lbl}\")\n",
    "    \n",
    "    break"
   ]
  },
  {
   "cell_type": "code",
   "execution_count": null,
   "metadata": {},
   "outputs": [],
   "source": []
  }
 ],
 "metadata": {
  "kernelspec": {
   "display_name": "Python 3 (ipykernel)",
   "language": "python",
   "name": "python3"
  },
  "language_info": {
   "codemirror_mode": {
    "name": "ipython",
    "version": 3
   },
   "file_extension": ".py",
   "mimetype": "text/x-python",
   "name": "python",
   "nbconvert_exporter": "python",
   "pygments_lexer": "ipython3",
   "version": "3.8.11"
  }
 },
 "nbformat": 4,
 "nbformat_minor": 2
}
