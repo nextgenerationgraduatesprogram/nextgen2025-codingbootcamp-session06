{
 "cells": [
  {
   "cell_type": "markdown",
   "metadata": {},
   "source": [
    "# System Arguments & Argument Parsing\n",
    "\n",
    "So this is all great, we've moved our code into modules and made it more re-usable. We also have a script which lets us run the same code repeatedly to improve reproducibility and maintainability. However, what if we want to change some small aspect of the code i.e. where to download the data, or what samples to use in the dataset, etc.\n",
    "\n",
    "We want to provide arguments to our script which modify it's behaviour, similarly to changing variables in notebooks, but more programatically and in a structured manner. The way we can archieve this is through system arguments and argument parsing."
   ]
  },
  {
   "cell_type": "markdown",
   "metadata": {},
   "source": [
    "## 00. Getting Setup"
   ]
  },
  {
   "cell_type": "code",
   "execution_count": 1,
   "metadata": {},
   "outputs": [],
   "source": [
    "# !pip install --upgrade pip --user\n",
    "# !pip install -r ../requirements.txt --user"
   ]
  },
  {
   "cell_type": "markdown",
   "metadata": {},
   "source": [
    "## 01. System Arguments\n",
    "\n",
    "What are system arguments? System arguments are command-line inputs which are passed to a Python script when it is executed, it allows us to dynamically provide inputs to the script without modifying the script itself.\n",
    "\n",
    "In Python, these are accessed using the `sys.argv` list."
   ]
  },
  {
   "cell_type": "code",
   "execution_count": 2,
   "metadata": {},
   "outputs": [
    {
     "name": "stdout",
     "output_type": "stream",
     "text": [
      "C:\\Users\\samca\\anaconda3\\lib\\site-packages\\ipykernel_launcher.py\n",
      "-f\n",
      "C:\\Users\\samca\\AppData\\Roaming\\jupyter\\runtime\\kernel-64a47cb8-e550-4c44-932e-81dbdefc9317.json\n"
     ]
    }
   ],
   "source": [
    "import sys\n",
    "\n",
    "for arg in sys.argv:\n",
    "    print(arg)"
   ]
  },
  {
   "cell_type": "code",
   "execution_count": 3,
   "metadata": {},
   "outputs": [
    {
     "data": {
      "text/plain": [
       "['C:\\\\Users\\\\samca\\\\anaconda3\\\\lib\\\\site-packages\\\\ipykernel_launcher.py',\n",
       " '-f',\n",
       " 'C:\\\\Users\\\\samca\\\\AppData\\\\Roaming\\\\jupyter\\\\runtime\\\\kernel-64a47cb8-e550-4c44-932e-81dbdefc9317.json']"
      ]
     },
     "execution_count": 3,
     "metadata": {},
     "output_type": "execute_result"
    }
   ],
   "source": [
    "sys.argv"
   ]
  },
  {
   "cell_type": "code",
   "execution_count": 4,
   "metadata": {},
   "outputs": [
    {
     "data": {
      "text/plain": [
       "'C:\\\\Users\\\\samca\\\\anaconda3\\\\lib\\\\site-packages\\\\ipykernel_launcher.py'"
      ]
     },
     "execution_count": 4,
     "metadata": {},
     "output_type": "execute_result"
    }
   ],
   "source": [
    "# first arg is the script name\n",
    "sys.argv[0]"
   ]
  },
  {
   "cell_type": "code",
   "execution_count": 5,
   "metadata": {},
   "outputs": [
    {
     "data": {
      "text/plain": [
       "['-f',\n",
       " 'C:\\\\Users\\\\samca\\\\AppData\\\\Roaming\\\\jupyter\\\\runtime\\\\kernel-64a47cb8-e550-4c44-932e-81dbdefc9317.json']"
      ]
     },
     "execution_count": 5,
     "metadata": {},
     "output_type": "execute_result"
    }
   ],
   "source": [
    "# second arg and beyond are provided args\n",
    "sys.argv[1:]"
   ]
  },
  {
   "cell_type": "markdown",
   "metadata": {},
   "source": [
    "So if we run a script with some additional arguments, we can observe how these get passed to the Python script via. the system arguments."
   ]
  },
  {
   "cell_type": "code",
   "execution_count": 11,
   "metadata": {},
   "outputs": [
    {
     "name": "stdout",
     "output_type": "stream",
     "text": [
      "['../scripts/script_with_args.py', '1', '2']\n",
      "1 + 2 = 3\n"
     ]
    }
   ],
   "source": [
    "# explore adding some arguments\n",
    "!python ../scripts/script_with_args.py model data"
   ]
  },
  {
   "cell_type": "code",
   "execution_count": null,
   "metadata": {},
   "outputs": [],
   "source": []
  },
  {
   "cell_type": "markdown",
   "metadata": {},
   "source": [
    "We can use these system arguments to change what our script does and it provides us a tremendous amount of flexibility, however what happens if the user doesn't provide the right input, or provides the wrong datatype, or the wrong order? "
   ]
  },
  {
   "cell_type": "code",
   "execution_count": 13,
   "metadata": {},
   "outputs": [
    {
     "name": "stdout",
     "output_type": "stream",
     "text": [
      "{'x': '10', 'y': '10'}\n"
     ]
    },
    {
     "name": "stderr",
     "output_type": "stream",
     "text": [
      "Traceback (most recent call last):\n",
      "  File \"../scripts/script_with_custom_argparsing.py\", line 21, in <module>\n",
      "    print(f\"{float(x)} + {float(y)} = {z}\")\n",
      "NameError: name 'x' is not defined\n"
     ]
    }
   ],
   "source": [
    "# see if you can break the following script\n",
    "!python ../scripts/script_with_custom_argparsing.py --x 10 --y 10"
   ]
  },
  {
   "cell_type": "markdown",
   "metadata": {},
   "source": [
    "## 02. Argument Parsing\n",
    "\n",
    "We want a structured way to deal with the arguments, we could do this ourselves by writing a custom way to parse the arguments, however this quickly becomes messy. Luckily, like many things in Python this has already been done for us, we can use the `argparse` library to implement a customizable argument parsing scheme."
   ]
  },
  {
   "cell_type": "code",
   "execution_count": null,
   "metadata": {},
   "outputs": [],
   "source": [
    "import argparse\n",
    "\n",
    "parser = argparse.ArgumentParser(description=\"parse some args\")\n",
    "parser.add_argument(\"--x\", help=\"x-value\")\n",
    "\n",
    "args = parser.parse_args([\"--x\", \"10\"])\n",
    "print(args)\n",
    "\n",
    "print(args.x, type(args.x))"
   ]
  },
  {
   "cell_type": "code",
   "execution_count": null,
   "metadata": {},
   "outputs": [],
   "source": [
    "!python ../scripts/script_with_argparse.py --help"
   ]
  },
  {
   "cell_type": "markdown",
   "metadata": {},
   "source": [
    "## 03. Scripts with Argument Parsing"
   ]
  },
  {
   "cell_type": "code",
   "execution_count": null,
   "metadata": {},
   "outputs": [],
   "source": [
    "!python ../scripts/script_with_dataset_and_argparse.py --root ../data --regex \"[1-3]\""
   ]
  },
  {
   "cell_type": "code",
   "execution_count": null,
   "metadata": {},
   "outputs": [],
   "source": []
  }
 ],
 "metadata": {
  "kernelspec": {
   "display_name": "Python 3 (ipykernel)",
   "language": "python",
   "name": "python3"
  },
  "language_info": {
   "codemirror_mode": {
    "name": "ipython",
    "version": 3
   },
   "file_extension": ".py",
   "mimetype": "text/x-python",
   "name": "python",
   "nbconvert_exporter": "python",
   "pygments_lexer": "ipython3",
   "version": "3.8.11"
  }
 },
 "nbformat": 4,
 "nbformat_minor": 2
}
