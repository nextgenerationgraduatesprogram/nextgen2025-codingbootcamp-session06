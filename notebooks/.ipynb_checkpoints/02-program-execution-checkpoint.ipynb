{
 "cells": [
  {
   "cell_type": "markdown",
   "metadata": {},
   "source": [
    "# Python Scripts & Program Execution\n",
    "\n",
    "When should we use scripts? Jupyter notebooks encourage tweaking and exploration, while this is an important part of the development process, we often get to a point where we just want to run the notebook from start to finish i.e. to perform some data processing. When the notebook is operating more as code we want to execute sequentially and repeatedly it's time to switch to scripts.\n",
    "\n",
    "What is a Python script? A Python script is a standalone file (.py) designed for sequential execution. Unlike modules, which are meant for organizing reusable code, scripts are executed directly. Scripts offer better maintainability, version control, performance, and automation, making them ideal for reproducible workflows and deployment.  \n",
    "\n",
    "What happens when you run a script? When a script runs, Python parses the code, compiles it to bytecode, and executes it within the Python Virtual Machine (PVM). This structured approach avoids issues like hidden states in notebooks and ensures predictable execution."
   ]
  },
  {
   "cell_type": "markdown",
   "metadata": {},
   "source": [
    "## 00. Getting Setup"
   ]
  },
  {
   "cell_type": "code",
   "execution_count": null,
   "metadata": {},
   "outputs": [],
   "source": [
    "!pip install --upgrade pip --user\n",
    "!pip install -r ../requirements.txt --user"
   ]
  },
  {
   "cell_type": "markdown",
   "metadata": {},
   "source": [
    "## 01. Python Execution\n",
    "\n",
    "In the previous notebook we covered what Python can \"see\" when it's trying to import something. Another important aspect of executing Python code is where this code is being run, we call this the \"working directory\".\n",
    "\n",
    "What is the working directory? The working directory is the directory where Python looks for files by default, searches for modules, reads and writes files, etc. is the filesystem location where the Python code is running from."
   ]
  },
  {
   "cell_type": "code",
   "execution_count": null,
   "metadata": {},
   "outputs": [],
   "source": [
    "import os\n",
    "print(os.getcwd())"
   ]
  },
  {
   "cell_type": "code",
   "execution_count": null,
   "metadata": {},
   "outputs": [],
   "source": [
    "from pathlib import Path\n",
    "print(Path(\".\").absolute().resolve())"
   ]
  },
  {
   "cell_type": "code",
   "execution_count": null,
   "metadata": {},
   "outputs": [],
   "source": [
    "# find items in current directory with `pathlib`"
   ]
  },
  {
   "cell_type": "code",
   "execution_count": null,
   "metadata": {},
   "outputs": [],
   "source": [
    "# \".\" defaults to our current working directory, we can then make changes relative to this"
   ]
  },
  {
   "cell_type": "markdown",
   "metadata": {},
   "source": [
    "Whenever we run code, each Python module will also add some extra variables to each module called double underscore attributes, or dunder for short. These allow Python and us to figure out what the name of a file is an if it's the main code being run and provide global information."
   ]
  },
  {
   "cell_type": "code",
   "execution_count": null,
   "metadata": {},
   "outputs": [],
   "source": [
    "# explore some __dunder__ attributes"
   ]
  },
  {
   "cell_type": "code",
   "execution_count": null,
   "metadata": {},
   "outputs": [],
   "source": []
  },
  {
   "cell_type": "code",
   "execution_count": null,
   "metadata": {},
   "outputs": [],
   "source": []
  },
  {
   "cell_type": "markdown",
   "metadata": {},
   "source": [
    "## 02. Python Scripts\n",
    "\n",
    "A Python script is just a Python module aka. a file containing some Python code, typically with a `.py` extension, that is designed to be executed as a standalone piece of code rather than as an organizational tool. Let's take a look at running some scripts.\n",
    "\n",
    "Typically we would run scripts from the commandline by typing `python <path>/<to>/<script>.py`, using `!` we can also do this from inside a notebook with some caveats."
   ]
  },
  {
   "cell_type": "code",
   "execution_count": null,
   "metadata": {},
   "outputs": [],
   "source": [
    "!python ../scripts/script.py"
   ]
  },
  {
   "cell_type": "code",
   "execution_count": null,
   "metadata": {},
   "outputs": [],
   "source": [
    "# explore some different aspects of scripts e.g. __dunder__ methods and their execution"
   ]
  },
  {
   "cell_type": "markdown",
   "metadata": {},
   "source": [
    "## 03. Scripts as Jobs\n",
    "\n",
    "We essentially want to treat scripts as blocks of code to be executed in a repeatable manner, this significantly improves the reproducibility of our work.\n",
    "\n",
    "Let's create a script which downloads the dataset, creates an interface for the dataset, and does some processing to it."
   ]
  },
  {
   "cell_type": "code",
   "execution_count": null,
   "metadata": {},
   "outputs": [],
   "source": [
    "!python ../scripts/script_with_dataset.py"
   ]
  },
  {
   "cell_type": "code",
   "execution_count": null,
   "metadata": {},
   "outputs": [],
   "source": []
  }
 ],
 "metadata": {
  "kernelspec": {
   "display_name": "Python 3 (ipykernel)",
   "language": "python",
   "name": "python3"
  },
  "language_info": {
   "codemirror_mode": {
    "name": "ipython",
    "version": 3
   },
   "file_extension": ".py",
   "mimetype": "text/x-python",
   "name": "python",
   "nbconvert_exporter": "python",
   "pygments_lexer": "ipython3",
   "version": "3.8.11"
  }
 },
 "nbformat": 4,
 "nbformat_minor": 2
}
