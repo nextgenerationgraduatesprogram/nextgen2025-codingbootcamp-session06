{
 "cells": [
  {
   "cell_type": "markdown",
   "metadata": {},
   "source": [
    "# Session 6: Building a Python Script\n",
    "\n",
    "Python Modules, System Paths, Program Flow, and Program Arguments"
   ]
  },
  {
   "cell_type": "markdown",
   "metadata": {},
   "source": [
    "## Running a Script"
   ]
  },
  {
   "cell_type": "code",
   "execution_count": 1,
   "metadata": {},
   "outputs": [],
   "source": [
    "# discuss the importance of scripts for modularizing pieces of your code; performing repeated actions\n",
    "\n",
    "# highlight other benefits; repeatability, running scripts on HPC/AWS, etc."
   ]
  },
  {
   "cell_type": "code",
   "execution_count": 2,
   "metadata": {},
   "outputs": [],
   "source": [
    "# lets look at the structure of a python script\n",
    "\n",
    "# executes from top to bottom\n",
    "# typically import items at the top of the script\n",
    "# define functions to do things\n",
    "# do things \n",
    "\n",
    "# what is __main__"
   ]
  },
  {
   "cell_type": "code",
   "execution_count": 3,
   "metadata": {},
   "outputs": [],
   "source": [
    "# how to run a python script\n",
    "\n"
   ]
  },
  {
   "cell_type": "code",
   "execution_count": 4,
   "metadata": {},
   "outputs": [],
   "source": [
    "# what is a working directory?\n",
    "\n",
    "# what is our current working directory\n",
    "\n",
    "# can we change our working directory"
   ]
  },
  {
   "cell_type": "code",
   "execution_count": 5,
   "metadata": {},
   "outputs": [
    {
     "name": "stdout",
     "output_type": "stream",
     "text": [
      "c:\\Users\\can134\\OneDrive - CSIRO\\Documents\\CSIRO\\NextGen\\2025\\coding-bootcamp\\nextgen2025-codingbootcamp-session06\\scripts\\process.py\n",
      "__main__\n",
      "None\n",
      "c:\\Users\\can134\\OneDrive - CSIRO\\Documents\\CSIRO\\NextGen\\2025\\coding-bootcamp\\nextgen2025-codingbootcamp-session06\\notebooks\n"
     ]
    }
   ],
   "source": [
    "!python ../scripts/process.py"
   ]
  },
  {
   "cell_type": "code",
   "execution_count": 6,
   "metadata": {},
   "outputs": [],
   "source": [
    "# exercise lets build a script to load the data in a file"
   ]
  },
  {
   "cell_type": "markdown",
   "metadata": {},
   "source": [
    "## Designing a Module"
   ]
  },
  {
   "cell_type": "code",
   "execution_count": 7,
   "metadata": {},
   "outputs": [],
   "source": [
    "# however say we want to do some complex processing to this data, we have a function to do this\n",
    "# we could just put it in the script, however we might want to use this somewhere else\n",
    "# this process of designing modular pieces of code is a good practice to get into; building units of code then putting them together"
   ]
  },
  {
   "cell_type": "code",
   "execution_count": 8,
   "metadata": {},
   "outputs": [],
   "source": [
    "# so in src we have defined some process and we want to be able to use them in our script"
   ]
  },
  {
   "cell_type": "code",
   "execution_count": 9,
   "metadata": {},
   "outputs": [
    {
     "ename": "ModuleNotFoundError",
     "evalue": "No module named 'processes'",
     "output_type": "error",
     "traceback": [
      "\u001b[1;31m---------------------------------------------------------------------------\u001b[0m",
      "\u001b[1;31mModuleNotFoundError\u001b[0m                       Traceback (most recent call last)",
      "Cell \u001b[1;32mIn[9], line 1\u001b[0m\n\u001b[1;32m----> 1\u001b[0m \u001b[38;5;28;01mimport\u001b[39;00m\u001b[38;5;250m \u001b[39m\u001b[38;5;21;01mprocesses\u001b[39;00m\n",
      "\u001b[1;31mModuleNotFoundError\u001b[0m: No module named 'processes'"
     ]
    }
   ],
   "source": [
    "import processes"
   ]
  },
  {
   "cell_type": "code",
   "execution_count": 11,
   "metadata": {},
   "outputs": [
    {
     "data": {
      "text/plain": [
       "['C:\\\\Program Files\\\\WindowsApps\\\\PythonSoftwareFoundation.Python.3.10_3.10.3056.0_x64__qbz5n2kfra8p0\\\\python310.zip',\n",
       " 'C:\\\\Program Files\\\\WindowsApps\\\\PythonSoftwareFoundation.Python.3.10_3.10.3056.0_x64__qbz5n2kfra8p0\\\\DLLs',\n",
       " 'C:\\\\Program Files\\\\WindowsApps\\\\PythonSoftwareFoundation.Python.3.10_3.10.3056.0_x64__qbz5n2kfra8p0\\\\lib',\n",
       " 'C:\\\\Users\\\\can134\\\\AppData\\\\Local\\\\Microsoft\\\\WindowsApps\\\\PythonSoftwareFoundation.Python.3.10_qbz5n2kfra8p0',\n",
       " 'c:\\\\Users\\\\can134\\\\OneDrive - CSIRO\\\\Documents\\\\CSIRO\\\\NextGen\\\\2025\\\\coding-bootcamp\\\\nextgen2025-codingbootcamp-session06\\\\.venv',\n",
       " '',\n",
       " 'c:\\\\Users\\\\can134\\\\OneDrive - CSIRO\\\\Documents\\\\CSIRO\\\\NextGen\\\\2025\\\\coding-bootcamp\\\\nextgen2025-codingbootcamp-session06\\\\.venv\\\\lib\\\\site-packages',\n",
       " 'c:\\\\Users\\\\can134\\\\OneDrive - CSIRO\\\\Documents\\\\CSIRO\\\\NextGen\\\\2025\\\\coding-bootcamp\\\\nextgen2025-codingbootcamp-session06\\\\.venv\\\\lib\\\\site-packages\\\\win32',\n",
       " 'c:\\\\Users\\\\can134\\\\OneDrive - CSIRO\\\\Documents\\\\CSIRO\\\\NextGen\\\\2025\\\\coding-bootcamp\\\\nextgen2025-codingbootcamp-session06\\\\.venv\\\\lib\\\\site-packages\\\\win32\\\\lib',\n",
       " 'c:\\\\Users\\\\can134\\\\OneDrive - CSIRO\\\\Documents\\\\CSIRO\\\\NextGen\\\\2025\\\\coding-bootcamp\\\\nextgen2025-codingbootcamp-session06\\\\.venv\\\\lib\\\\site-packages\\\\Pythonwin']"
      ]
     },
     "execution_count": 11,
     "metadata": {},
     "output_type": "execute_result"
    }
   ],
   "source": [
    "# for python to have access to a module it needs to be in the system path\n",
    "import sys\n",
    "sys.path"
   ]
  },
  {
   "cell_type": "code",
   "execution_count": 12,
   "metadata": {},
   "outputs": [],
   "source": [
    "# append the directory of the path to the working path\n",
    "import pathlib\n",
    "p = pathlib.Path(\"../src\").absolute()\n",
    "sys.path.append(str(p))"
   ]
  },
  {
   "cell_type": "code",
   "execution_count": 13,
   "metadata": {},
   "outputs": [
    {
     "name": "stdout",
     "output_type": "stream",
     "text": [
      "10\n"
     ]
    },
    {
     "data": {
      "text/plain": [
       "10"
      ]
     },
     "execution_count": 13,
     "metadata": {},
     "output_type": "execute_result"
    }
   ],
   "source": [
    "# lets run it now\n",
    "import processes\n",
    "processes.process_data(10)"
   ]
  },
  {
   "cell_type": "code",
   "execution_count": 14,
   "metadata": {},
   "outputs": [],
   "source": [
    "# lets put this into our script now and run our script"
   ]
  },
  {
   "cell_type": "code",
   "execution_count": 15,
   "metadata": {},
   "outputs": [],
   "source": [
    "# awesome now we can define a script that applies a well-defined process to the data\n",
    "# our code is nice an modular so we can reuse our code elsewhere too"
   ]
  },
  {
   "cell_type": "markdown",
   "metadata": {},
   "source": [
    "## Arguments"
   ]
  },
  {
   "cell_type": "code",
   "execution_count": 16,
   "metadata": {},
   "outputs": [],
   "source": [
    "# now lets say we want to run this script with some different processing parameters; \n",
    "# we don't want to have to change the script each time; why?\n",
    "# we also don't want to have to make multiple of the script each time; why?"
   ]
  },
  {
   "cell_type": "code",
   "execution_count": 19,
   "metadata": {},
   "outputs": [],
   "source": [
    "# what we can do instead is define this variable as an argument which we provide to the script when we run it\n",
    "# couple of different ways to do this; good practice is the following"
   ]
  },
  {
   "cell_type": "code",
   "execution_count": 21,
   "metadata": {},
   "outputs": [],
   "source": [
    "# lets run the script job_with_args\n",
    "\n",
    "# we can see it separates out the items with the spaces between them;\n",
    "# first is the relative location of the python file being run with respect to the working directory\n",
    "# second is the other arguments provided"
   ]
  },
  {
   "cell_type": "code",
   "execution_count": 22,
   "metadata": {},
   "outputs": [],
   "source": [
    "# we can for example modify our script to use this argument each time we provide it - example"
   ]
  },
  {
   "cell_type": "code",
   "execution_count": 23,
   "metadata": {},
   "outputs": [],
   "source": [
    "# however this is not very nice; what happens if the user doesnt provide anything, \n",
    "# what happens if they give the wrong order\n",
    "# what happens if its the wrong type\n",
    "# what if they dont know the arguments"
   ]
  },
  {
   "cell_type": "markdown",
   "metadata": {},
   "source": [
    "# Argument Parsing"
   ]
  },
  {
   "cell_type": "code",
   "execution_count": 24,
   "metadata": {},
   "outputs": [],
   "source": [
    "# common way to deal with this is to define argument parsing\n",
    "# similarly to how we parsed the file in the previous session; this just defines how we interpret the arguments of sys.argv"
   ]
  },
  {
   "cell_type": "code",
   "execution_count": null,
   "metadata": {},
   "outputs": [],
   "source": []
  }
 ],
 "metadata": {
  "kernelspec": {
   "display_name": ".venv",
   "language": "python",
   "name": "python3"
  },
  "language_info": {
   "codemirror_mode": {
    "name": "ipython",
    "version": 3
   },
   "file_extension": ".py",
   "mimetype": "text/x-python",
   "name": "python",
   "nbconvert_exporter": "python",
   "pygments_lexer": "ipython3",
   "version": "3.10.11"
  }
 },
 "nbformat": 4,
 "nbformat_minor": 2
}
